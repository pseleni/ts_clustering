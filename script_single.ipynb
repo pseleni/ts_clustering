{
 "cells": [
  {
   "cell_type": "code",
   "execution_count": 1,
   "metadata": {},
   "outputs": [
    {
     "name": "stdout",
     "output_type": "stream",
     "text": [
      "defaultResults/FacesUCR_euclidean.csv\n",
      "FacesUCR:\n",
      "Adjusted Rand Index - mean: 0.211147, std: 0.032532\n",
      "Adjusted Mutual Info - mean: 0.350804, std: 0.018395\n",
      "Running time: 18.381214 sec\n"
     ]
    },
    {
     "name": "stderr",
     "output_type": "stream",
     "text": [
      "/home/psaroudaki/miniforge3/envs/tsclustering/lib/python3.10/site-packages/linear_operator/utils/cholesky.py:40: NumericalWarning: A not p.d., added jitter of 1.0e-06 to the diagonal\n",
      "  warnings.warn(\n"
     ]
    },
    {
     "name": "stdout",
     "output_type": "stream",
     "text": [
      "Running time -SGPR: 18976.231490 sec\n",
      "FacesUCR:\n",
      "\n",
      "Weight: 0.000000 (random) ----> Adjusted Rand Index - mean: 0.067684, std: 0.014736\n",
      "Weight: 0.000000 (random) ----> Adjusted Mutual Info - mean: 0.216718, std: 0.014367\n",
      "Running time - k-means: 67.974028 sec\n",
      "Weight: 0.225000 (random) ----> Adjusted Rand Index - mean: 0.089276, std: 0.013602\n",
      "Weight: 0.225000 (random) ----> Adjusted Mutual Info - mean: 0.210769, std: 0.013218\n",
      "Running time - k-means: 17.817440 sec\n",
      "Weight: 2.250000 (random) ----> Adjusted Rand Index - mean: 0.115068, std: 0.008621\n",
      "Weight: 2.250000 (random) ----> Adjusted Mutual Info - mean: 0.223331, std: 0.007370\n",
      "Running time - k-means: 21.197366 sec\n",
      "Weight: 22.500000 (random) ----> Adjusted Rand Index - mean: 0.104940, std: 0.007751\n",
      "Weight: 22.500000 (random) ----> Adjusted Mutual Info - mean: 0.209306, std: 0.008422\n",
      "Running time - k-means: 21.719501 sec\n",
      "Weight: 225.000000 (random) ----> Adjusted Rand Index - mean: 0.099543, std: 0.008435\n",
      "Weight: 225.000000 (random) ----> Adjusted Mutual Info - mean: 0.197734, std: 0.012586\n",
      "Running time - k-means: 21.101567 sec\n",
      "Weight: 2250.000000 (random) ----> Adjusted Rand Index - mean: 0.096702, std: 0.006444\n",
      "Weight: 2250.000000 (random) ----> Adjusted Mutual Info - mean: 0.196612, std: 0.012360\n",
      "Running time - k-means: 21.506909 sec\n"
     ]
    },
    {
     "name": "stderr",
     "output_type": "stream",
     "text": [
      "/home/psaroudaki/miniforge3/envs/tsclustering/lib/python3.10/site-packages/linear_operator/utils/cholesky.py:40: NumericalWarning: A not p.d., added jitter of 1.0e-06 to the diagonal\n",
      "  warnings.warn(\n"
     ]
    },
    {
     "ename": "KeyboardInterrupt",
     "evalue": "",
     "output_type": "error",
     "traceback": [
      "\u001b[0;31m---------------------------------------------------------------------------\u001b[0m",
      "\u001b[0;31mKeyboardInterrupt\u001b[0m                         Traceback (most recent call last)",
      "\u001b[1;32m/home/psaroudaki/tsclustering/script_single.ipynb Cell 1\u001b[0m line \u001b[0;36m1\n\u001b[1;32m      <a href='vscode-notebook-cell://ssh-remote%2Bcantor.softlab.ntua.gr/home/psaroudaki/tsclustering/script_single.ipynb#W0sdnNjb2RlLXJlbW90ZQ%3D%3D?line=6'>7</a>\u001b[0m runs \u001b[39m=\u001b[39m \u001b[39m10\u001b[39m\n\u001b[1;32m      <a href='vscode-notebook-cell://ssh-remote%2Bcantor.softlab.ntua.gr/home/psaroudaki/tsclustering/script_single.ipynb#W0sdnNjb2RlLXJlbW90ZQ%3D%3D?line=7'>8</a>\u001b[0m defaultPath \u001b[39m=\u001b[39m \u001b[39m'\u001b[39m\u001b[39mdefaultResults\u001b[39m\u001b[39m'\u001b[39m\n\u001b[0;32m---> <a href='vscode-notebook-cell://ssh-remote%2Bcantor.softlab.ntua.gr/home/psaroudaki/tsclustering/script_single.ipynb#W0sdnNjb2RlLXJlbW90ZQ%3D%3D?line=9'>10</a>\u001b[0m script\u001b[39m.\u001b[39;49mworkload(preprocess, metric, name, runs, defaultPath)\n",
      "File \u001b[0;32m~/tsclustering/script.py:34\u001b[0m, in \u001b[0;36mworkload\u001b[0;34m(preprocess, metric, data, runs, outputFolder, basePath)\u001b[0m\n\u001b[1;32m     32\u001b[0m writer\u001b[39m.\u001b[39mwriterow(temp1)\n\u001b[1;32m     33\u001b[0m \u001b[39mfor\u001b[39;00m i \u001b[39min\u001b[39;00m \u001b[39mrange\u001b[39m(\u001b[39m1\u001b[39m,\u001b[39m6\u001b[39m):\n\u001b[0;32m---> 34\u001b[0m     temp2 \u001b[39m=\u001b[39m func2(data, i, runs, metric, basePath)\n\u001b[1;32m     35\u001b[0m     writer\u001b[39m.\u001b[39mwriterow(temp2)\n",
      "File \u001b[0;32m~/tsclustering/gaussian_kmeans.py:242\u001b[0m, in \u001b[0;36mrun_set_without\u001b[0;34m(dataset, ind_points, runs, metric, basePath)\u001b[0m\n\u001b[1;32m    240\u001b[0m output \u001b[39m=\u001b[39m model[i](train_x)\n\u001b[1;32m    241\u001b[0m \u001b[39m# Calc loss and backprop gradients\u001b[39;00m\n\u001b[0;32m--> 242\u001b[0m loss \u001b[39m=\u001b[39m \u001b[39m-\u001b[39mmll(output, train_y[i])\n\u001b[1;32m    243\u001b[0m loss\u001b[39m.\u001b[39mbackward()        \n\u001b[1;32m    244\u001b[0m optimizer\u001b[39m.\u001b[39mstep()\n",
      "File \u001b[0;32m~/miniforge3/envs/tsclustering/lib/python3.10/site-packages/gpytorch/module.py:31\u001b[0m, in \u001b[0;36mModule.__call__\u001b[0;34m(self, *inputs, **kwargs)\u001b[0m\n\u001b[1;32m     30\u001b[0m \u001b[39mdef\u001b[39;00m \u001b[39m__call__\u001b[39m(\u001b[39mself\u001b[39m, \u001b[39m*\u001b[39minputs, \u001b[39m*\u001b[39m\u001b[39m*\u001b[39mkwargs) \u001b[39m-\u001b[39m\u001b[39m>\u001b[39m Union[Tensor, Distribution, LinearOperator]:\n\u001b[0;32m---> 31\u001b[0m     outputs \u001b[39m=\u001b[39m \u001b[39mself\u001b[39;49m\u001b[39m.\u001b[39;49mforward(\u001b[39m*\u001b[39;49minputs, \u001b[39m*\u001b[39;49m\u001b[39m*\u001b[39;49mkwargs)\n\u001b[1;32m     32\u001b[0m     \u001b[39mif\u001b[39;00m \u001b[39misinstance\u001b[39m(outputs, \u001b[39mlist\u001b[39m):\n\u001b[1;32m     33\u001b[0m         \u001b[39mreturn\u001b[39;00m [_validate_module_outputs(output) \u001b[39mfor\u001b[39;00m output \u001b[39min\u001b[39;00m outputs]\n",
      "File \u001b[0;32m~/miniforge3/envs/tsclustering/lib/python3.10/site-packages/gpytorch/mlls/exact_marginal_log_likelihood.py:64\u001b[0m, in \u001b[0;36mExactMarginalLogLikelihood.forward\u001b[0;34m(self, function_dist, target, *params)\u001b[0m\n\u001b[1;32m     62\u001b[0m \u001b[39m# Get the log prob of the marginal distribution\u001b[39;00m\n\u001b[1;32m     63\u001b[0m output \u001b[39m=\u001b[39m \u001b[39mself\u001b[39m\u001b[39m.\u001b[39mlikelihood(function_dist, \u001b[39m*\u001b[39mparams)\n\u001b[0;32m---> 64\u001b[0m res \u001b[39m=\u001b[39m output\u001b[39m.\u001b[39;49mlog_prob(target)\n\u001b[1;32m     65\u001b[0m res \u001b[39m=\u001b[39m \u001b[39mself\u001b[39m\u001b[39m.\u001b[39m_add_other_terms(res, params)\n\u001b[1;32m     67\u001b[0m \u001b[39m# Scale by the amount of data we have\u001b[39;00m\n",
      "File \u001b[0;32m~/miniforge3/envs/tsclustering/lib/python3.10/site-packages/gpytorch/distributions/multivariate_normal.py:192\u001b[0m, in \u001b[0;36mMultivariateNormal.log_prob\u001b[0;34m(self, value)\u001b[0m\n\u001b[1;32m    185\u001b[0m         covar \u001b[39m=\u001b[39m covar\u001b[39m.\u001b[39mrepeat(\n\u001b[1;32m    186\u001b[0m             \u001b[39m*\u001b[39m(diff_size \u001b[39m/\u001b[39m\u001b[39m/\u001b[39m covar_size \u001b[39mfor\u001b[39;00m diff_size, covar_size \u001b[39min\u001b[39;00m \u001b[39mzip\u001b[39m(diff\u001b[39m.\u001b[39mshape[:\u001b[39m-\u001b[39m\u001b[39m1\u001b[39m], padded_batch_shape)),\n\u001b[1;32m    187\u001b[0m             \u001b[39m1\u001b[39m,\n\u001b[1;32m    188\u001b[0m             \u001b[39m1\u001b[39m,\n\u001b[1;32m    189\u001b[0m         )\n\u001b[1;32m    191\u001b[0m \u001b[39m# Get log determininant and first part of quadratic form\u001b[39;00m\n\u001b[0;32m--> 192\u001b[0m covar \u001b[39m=\u001b[39m covar\u001b[39m.\u001b[39;49mevaluate_kernel()\n\u001b[1;32m    193\u001b[0m inv_quad, logdet \u001b[39m=\u001b[39m covar\u001b[39m.\u001b[39minv_quad_logdet(inv_quad_rhs\u001b[39m=\u001b[39mdiff\u001b[39m.\u001b[39munsqueeze(\u001b[39m-\u001b[39m\u001b[39m1\u001b[39m), logdet\u001b[39m=\u001b[39m\u001b[39mTrue\u001b[39;00m)\n\u001b[1;32m    195\u001b[0m res \u001b[39m=\u001b[39m \u001b[39m-\u001b[39m\u001b[39m0.5\u001b[39m \u001b[39m*\u001b[39m \u001b[39msum\u001b[39m([inv_quad, logdet, diff\u001b[39m.\u001b[39msize(\u001b[39m-\u001b[39m\u001b[39m1\u001b[39m) \u001b[39m*\u001b[39m math\u001b[39m.\u001b[39mlog(\u001b[39m2\u001b[39m \u001b[39m*\u001b[39m math\u001b[39m.\u001b[39mpi)])\n",
      "File \u001b[0;32m~/miniforge3/envs/tsclustering/lib/python3.10/site-packages/linear_operator/operators/added_diag_linear_operator.py:210\u001b[0m, in \u001b[0;36mAddedDiagLinearOperator.evaluate_kernel\u001b[0;34m(self)\u001b[0m\n\u001b[1;32m    208\u001b[0m \u001b[39mdef\u001b[39;00m \u001b[39mevaluate_kernel\u001b[39m(\u001b[39mself\u001b[39m):\n\u001b[1;32m    209\u001b[0m     added_diag_linear_op \u001b[39m=\u001b[39m \u001b[39mself\u001b[39m\u001b[39m.\u001b[39mrepresentation_tree()(\u001b[39m*\u001b[39m\u001b[39mself\u001b[39m\u001b[39m.\u001b[39mrepresentation())\n\u001b[0;32m--> 210\u001b[0m     \u001b[39mreturn\u001b[39;00m added_diag_linear_op\u001b[39m.\u001b[39;49m_linear_op \u001b[39m+\u001b[39;49m added_diag_linear_op\u001b[39m.\u001b[39;49m_diag_tensor\n",
      "File \u001b[0;32m~/miniforge3/envs/tsclustering/lib/python3.10/site-packages/linear_operator/operators/low_rank_root_linear_operator.py:59\u001b[0m, in \u001b[0;36mLowRankRootLinearOperator.__add__\u001b[0;34m(self, other)\u001b[0m\n\u001b[1;32m     56\u001b[0m \u001b[39mfrom\u001b[39;00m \u001b[39m.\u001b[39;00m\u001b[39mlow_rank_root_added_diag_linear_operator\u001b[39;00m \u001b[39mimport\u001b[39;00m LowRankRootAddedDiagLinearOperator\n\u001b[1;32m     58\u001b[0m \u001b[39mif\u001b[39;00m \u001b[39misinstance\u001b[39m(other, DiagLinearOperator):\n\u001b[0;32m---> 59\u001b[0m     \u001b[39mreturn\u001b[39;00m LowRankRootAddedDiagLinearOperator(\u001b[39mself\u001b[39;49m, other)\n\u001b[1;32m     60\u001b[0m \u001b[39melse\u001b[39;00m:\n\u001b[1;32m     61\u001b[0m     \u001b[39mreturn\u001b[39;00m \u001b[39msuper\u001b[39m()\u001b[39m.\u001b[39m\u001b[39m__add__\u001b[39m(other)\n",
      "File \u001b[0;32m~/miniforge3/envs/tsclustering/lib/python3.10/site-packages/gpytorch/lazy/lazy_tensor.py:46\u001b[0m, in \u001b[0;36mdeprecated_lazy_tensor.<locals>.__init__\u001b[0;34m(self, *args, **kwargs)\u001b[0m\n\u001b[1;32m     43\u001b[0m     \u001b[39melse\u001b[39;00m:\n\u001b[1;32m     44\u001b[0m         new_kwargs[name] \u001b[39m=\u001b[39m val\n\u001b[0;32m---> 46\u001b[0m \u001b[39mreturn\u001b[39;00m __orig_init__(\u001b[39mself\u001b[39;49m, \u001b[39m*\u001b[39;49margs, \u001b[39m*\u001b[39;49m\u001b[39m*\u001b[39;49mnew_kwargs)\n",
      "File \u001b[0;32m~/miniforge3/envs/tsclustering/lib/python3.10/site-packages/linear_operator/operators/low_rank_root_added_diag_linear_operator.py:32\u001b[0m, in \u001b[0;36mLowRankRootAddedDiagLinearOperator.__init__\u001b[0;34m(self, preconditioner_override, *linear_ops)\u001b[0m\n\u001b[1;32m     27\u001b[0m \u001b[39melif\u001b[39;00m \u001b[39misinstance\u001b[39m(linear_ops[\u001b[39m1\u001b[39m], DiagLinearOperator) \u001b[39mand\u001b[39;00m \u001b[39mnot\u001b[39;00m \u001b[39misinstance\u001b[39m(linear_ops[\u001b[39m0\u001b[39m], LowRankRootLinearOperator):\n\u001b[1;32m     28\u001b[0m     \u001b[39mraise\u001b[39;00m \u001b[39mRuntimeError\u001b[39;00m(\n\u001b[1;32m     29\u001b[0m         \u001b[39m\"\u001b[39m\u001b[39mA LowRankRootAddedDiagLinearOperator can only be created with a LowRankLinearOperator base!\u001b[39m\u001b[39m\"\u001b[39m\n\u001b[1;32m     30\u001b[0m     )\n\u001b[0;32m---> 32\u001b[0m \u001b[39msuper\u001b[39;49m()\u001b[39m.\u001b[39;49m\u001b[39m__init__\u001b[39;49m(\u001b[39m*\u001b[39;49mlinear_ops, preconditioner_override\u001b[39m=\u001b[39;49mpreconditioner_override)\n",
      "File \u001b[0;32m~/miniforge3/envs/tsclustering/lib/python3.10/site-packages/gpytorch/lazy/lazy_tensor.py:46\u001b[0m, in \u001b[0;36mdeprecated_lazy_tensor.<locals>.__init__\u001b[0;34m(self, *args, **kwargs)\u001b[0m\n\u001b[1;32m     43\u001b[0m     \u001b[39melse\u001b[39;00m:\n\u001b[1;32m     44\u001b[0m         new_kwargs[name] \u001b[39m=\u001b[39m val\n\u001b[0;32m---> 46\u001b[0m \u001b[39mreturn\u001b[39;00m __orig_init__(\u001b[39mself\u001b[39;49m, \u001b[39m*\u001b[39;49margs, \u001b[39m*\u001b[39;49m\u001b[39m*\u001b[39;49mnew_kwargs)\n",
      "File \u001b[0;32m~/miniforge3/envs/tsclustering/lib/python3.10/site-packages/linear_operator/operators/added_diag_linear_operator.py:43\u001b[0m, in \u001b[0;36mAddedDiagLinearOperator.__init__\u001b[0;34m(self, preconditioner_override, *linear_ops)\u001b[0m\n\u001b[1;32m     37\u001b[0m \u001b[39mdef\u001b[39;00m \u001b[39m__init__\u001b[39m(\n\u001b[1;32m     38\u001b[0m     \u001b[39mself\u001b[39m,\n\u001b[1;32m     39\u001b[0m     \u001b[39m*\u001b[39mlinear_ops: Union[Tuple[LinearOperator, DiagLinearOperator], Tuple[DiagLinearOperator, LinearOperator]],\n\u001b[1;32m     40\u001b[0m     preconditioner_override: Optional[Callable] \u001b[39m=\u001b[39m \u001b[39mNone\u001b[39;00m,\n\u001b[1;32m     41\u001b[0m ):\n\u001b[1;32m     42\u001b[0m     linear_ops \u001b[39m=\u001b[39m \u001b[39mlist\u001b[39m(linear_ops)\n\u001b[0;32m---> 43\u001b[0m     \u001b[39msuper\u001b[39;49m(AddedDiagLinearOperator, \u001b[39mself\u001b[39;49m)\u001b[39m.\u001b[39;49m\u001b[39m__init__\u001b[39;49m(\u001b[39m*\u001b[39;49mlinear_ops, preconditioner_override\u001b[39m=\u001b[39;49mpreconditioner_override)\n\u001b[1;32m     44\u001b[0m     \u001b[39mif\u001b[39;00m \u001b[39mlen\u001b[39m(linear_ops) \u001b[39m>\u001b[39m \u001b[39m2\u001b[39m:\n\u001b[1;32m     45\u001b[0m         \u001b[39mraise\u001b[39;00m \u001b[39mRuntimeError\u001b[39;00m(\u001b[39m\"\u001b[39m\u001b[39mAn AddedDiagLinearOperator can only have two components\u001b[39m\u001b[39m\"\u001b[39m)\n",
      "File \u001b[0;32m~/miniforge3/envs/tsclustering/lib/python3.10/site-packages/gpytorch/lazy/lazy_tensor.py:46\u001b[0m, in \u001b[0;36mdeprecated_lazy_tensor.<locals>.__init__\u001b[0;34m(self, *args, **kwargs)\u001b[0m\n\u001b[1;32m     43\u001b[0m     \u001b[39melse\u001b[39;00m:\n\u001b[1;32m     44\u001b[0m         new_kwargs[name] \u001b[39m=\u001b[39m val\n\u001b[0;32m---> 46\u001b[0m \u001b[39mreturn\u001b[39;00m __orig_init__(\u001b[39mself\u001b[39;49m, \u001b[39m*\u001b[39;49margs, \u001b[39m*\u001b[39;49m\u001b[39m*\u001b[39;49mnew_kwargs)\n",
      "File \u001b[0;32m~/miniforge3/envs/tsclustering/lib/python3.10/site-packages/linear_operator/operators/sum_linear_operator.py:24\u001b[0m, in \u001b[0;36mSumLinearOperator.__init__\u001b[0;34m(self, *linear_ops, **kwargs)\u001b[0m\n\u001b[1;32m     22\u001b[0m batch_shape \u001b[39m=\u001b[39m torch\u001b[39m.\u001b[39mbroadcast_shapes(\u001b[39m*\u001b[39m[lt\u001b[39m.\u001b[39mbatch_shape \u001b[39mfor\u001b[39;00m lt \u001b[39min\u001b[39;00m linear_ops])\n\u001b[1;32m     23\u001b[0m linear_ops \u001b[39m=\u001b[39m \u001b[39mtuple\u001b[39m(lt\u001b[39m.\u001b[39m_expand_batch(batch_shape) \u001b[39mif\u001b[39;00m lt\u001b[39m.\u001b[39mbatch_shape \u001b[39m!=\u001b[39m batch_shape \u001b[39melse\u001b[39;00m lt \u001b[39mfor\u001b[39;00m lt \u001b[39min\u001b[39;00m linear_ops)\n\u001b[0;32m---> 24\u001b[0m \u001b[39msuper\u001b[39;49m(SumLinearOperator, \u001b[39mself\u001b[39;49m)\u001b[39m.\u001b[39;49m\u001b[39m__init__\u001b[39;49m(\u001b[39m*\u001b[39;49mlinear_ops, \u001b[39m*\u001b[39;49m\u001b[39m*\u001b[39;49mkwargs)\n\u001b[1;32m     26\u001b[0m \u001b[39mself\u001b[39m\u001b[39m.\u001b[39mlinear_ops \u001b[39m=\u001b[39m linear_ops\n",
      "File \u001b[0;32m~/miniforge3/envs/tsclustering/lib/python3.10/site-packages/gpytorch/lazy/lazy_tensor.py:46\u001b[0m, in \u001b[0;36mdeprecated_lazy_tensor.<locals>.__init__\u001b[0;34m(self, *args, **kwargs)\u001b[0m\n\u001b[1;32m     43\u001b[0m     \u001b[39melse\u001b[39;00m:\n\u001b[1;32m     44\u001b[0m         new_kwargs[name] \u001b[39m=\u001b[39m val\n\u001b[0;32m---> 46\u001b[0m \u001b[39mreturn\u001b[39;00m __orig_init__(\u001b[39mself\u001b[39;49m, \u001b[39m*\u001b[39;49margs, \u001b[39m*\u001b[39;49m\u001b[39m*\u001b[39;49mnew_kwargs)\n",
      "File \u001b[0;32m~/miniforge3/envs/tsclustering/lib/python3.10/site-packages/linear_operator/operators/_linear_operator.py:157\u001b[0m, in \u001b[0;36mLinearOperator.__init__\u001b[0;34m(self, *args, **kwargs)\u001b[0m\n\u001b[1;32m    155\u001b[0m \u001b[39mself\u001b[39m\u001b[39m.\u001b[39m_differentiable_kwargs \u001b[39m=\u001b[39m OrderedDict()\n\u001b[1;32m    156\u001b[0m \u001b[39mself\u001b[39m\u001b[39m.\u001b[39m_nondifferentiable_kwargs \u001b[39m=\u001b[39m \u001b[39mdict\u001b[39m()\n\u001b[0;32m--> 157\u001b[0m \u001b[39mfor\u001b[39;00m name, val \u001b[39min\u001b[39;00m \u001b[39msorted\u001b[39m(kwargs\u001b[39m.\u001b[39;49mitems()):\n\u001b[1;32m    158\u001b[0m     \u001b[39m# Sorting is necessary so that the flattening in the representation tree is deterministic\u001b[39;00m\n\u001b[1;32m    159\u001b[0m     \u001b[39mif\u001b[39;00m torch\u001b[39m.\u001b[39mis_tensor(val) \u001b[39mor\u001b[39;00m \u001b[39misinstance\u001b[39m(val, LinearOperator):\n\u001b[1;32m    160\u001b[0m         \u001b[39mself\u001b[39m\u001b[39m.\u001b[39m_differentiable_kwargs[name] \u001b[39m=\u001b[39m val\n",
      "\u001b[0;31mKeyboardInterrupt\u001b[0m: "
     ]
    }
   ],
   "source": [
    "import script\n",
    "preprocess = 1\n",
    "# metrics = ['euclidean','dtw']\n",
    "metric = script.metrics[0]\n",
    "#FacesUCR_euclidean.csv\n",
    "name = 'FacesUCR'\n",
    "runs = 10\n",
    "defaultPath = 'defaultResults'\n",
    "\n",
    "script.workload(preprocess, metric, name, runs, defaultPath)"
   ]
  }
 ],
 "metadata": {
  "kernelspec": {
   "display_name": "tsclustering",
   "language": "python",
   "name": "python3"
  },
  "language_info": {
   "codemirror_mode": {
    "name": "ipython",
    "version": 3
   },
   "file_extension": ".py",
   "mimetype": "text/x-python",
   "name": "python",
   "nbconvert_exporter": "python",
   "pygments_lexer": "ipython3",
   "version": "3.10.11"
  }
 },
 "nbformat": 4,
 "nbformat_minor": 2
}
